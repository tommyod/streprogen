{
 "cells": [
  {
   "cell_type": "markdown",
   "metadata": {},
   "source": [
    "## Custom optimization"
   ]
  },
  {
   "cell_type": "markdown",
   "metadata": {},
   "source": [
    "(inspired by [stronglifts](https://stronglifts.com/5x5/))\n",
    "\n",
    "This notebook shows features of [streprogen](https://github.com/tommyod/streprogen), the Python strength program generator.\n",
    "\n",
    "- [GitHub repository](https://github.com/tommyod/streprogen)\n",
    "- [Python Package Index (PyPI)](https://pypi.org/project/streprogen/)\n",
    "- [Report issues or make feature requests](https://github.com/tommyod/streprogen/issues)\n",
    "\n",
    "Contributions to the code are welcome. :)"
   ]
  },
  {
   "cell_type": "code",
   "execution_count": 1,
   "metadata": {},
   "outputs": [],
   "source": [
    "!pip install streprogen matplotlib --quiet"
   ]
  },
  {
   "cell_type": "markdown",
   "metadata": {},
   "source": [
    "### Imports"
   ]
  },
  {
   "cell_type": "code",
   "execution_count": 2,
   "metadata": {},
   "outputs": [],
   "source": [
    "from streprogen import Program, reps_to_intensity, progression_diffeq\n",
    "import matplotlib.pyplot as plt\n",
    "import functools"
   ]
  },
  {
   "cell_type": "markdown",
   "metadata": {},
   "source": [
    "### The default optimizer"
   ]
  },
  {
   "cell_type": "code",
   "execution_count": 3,
   "metadata": {},
   "outputs": [
    {
     "name": "stdout",
     "output_type": "stream",
     "text": [
      "----------------------------------------------------------------\n",
      "Program: Untitled\n",
      "\n",
      "Program parameters\n",
      "  duration: 4\n",
      "  reps_per_exercise: 25\n",
      "  intensity: 83\n",
      "  units: kg\n",
      "----------------------------------------------------------------\n",
      "Exercise information\n",
      "  Day 1\n",
      "   Squat   100kg -> 106kg  \n",
      "    reps: [3, 8]   weekly inc.: 1.5%\n",
      "----------------------------------------------------------------\n",
      "Program\n",
      " Week 1\n",
      "  Day 1\n",
      "   Squat   8 x 75kg    7 x 77.5kg  7 x 77.5kg  7 x 77.5kg  \n",
      "\n",
      " Week 2\n",
      "  Day 1\n",
      "   Squat   6 x 82.5kg  6 x 82.5kg  6 x 82.5kg  5 x 87.5kg  4 x 90kg    \n",
      "\n",
      " Week 3\n",
      "  Day 1\n",
      "   Squat   6 x 85kg    5 x 87.5kg  4 x 92.5kg  4 x 92.5kg  4 x 92.5kg  \n",
      "\n",
      " Week 4\n",
      "  Day 1\n",
      "   Squat   5 x 90kg    4 x 92.5kg  4 x 92.5kg  4 x 92.5kg  3 x 95kg    \n",
      "\n",
      "----------------------------------------------------------------\n"
     ]
    }
   ],
   "source": [
    "program = Program(duration=4)\n",
    "\n",
    "with program.Day():\n",
    "    program.DynamicExercise(name=\"Squat\", start_weight=100)\n",
    "    \n",
    "program.render()\n",
    "print(program)"
   ]
  },
  {
   "cell_type": "markdown",
   "metadata": {},
   "source": [
    "### Customizing the optimizer\n",
    "\n",
    "To customize the optimizer, change `max_diff` and `max_unique` below."
   ]
  },
  {
   "cell_type": "code",
   "execution_count": 4,
   "metadata": {},
   "outputs": [],
   "source": [
    "from streprogen import RepSchemeGenerator, RepSchemeOptimizer"
   ]
  },
  {
   "cell_type": "code",
   "execution_count": 5,
   "metadata": {},
   "outputs": [
    {
     "name": "stdout",
     "output_type": "stream",
     "text": [
      "----------------------------------------------------------------\n",
      "Program: Untitled\n",
      "\n",
      "Program parameters\n",
      "  duration: 4\n",
      "  reps_per_exercise: 25\n",
      "  intensity: 83\n",
      "  units: kg\n",
      "----------------------------------------------------------------\n",
      "Exercise information\n",
      "  Day 1\n",
      "   Squat   100kg -> 106kg  \n",
      "    reps: [3, 8]   weekly inc.: 1.5%\n",
      "----------------------------------------------------------------\n",
      "Program\n",
      " Week 1\n",
      "  Day 1\n",
      "   Squat   8 x 75kg    8 x 75kg    7 x 77.5kg  4 x 87.5kg  3 x 90kg    \n",
      "\n",
      " Week 2\n",
      "  Day 1\n",
      "   Squat   7 x 80kg    7 x 80kg    6 x 82.5kg  4 x 90kg    3 x 92.5kg  \n",
      "\n",
      " Week 3\n",
      "  Day 1\n",
      "   Squat   6 x 85kg    6 x 85kg    5 x 87.5kg  3 x 95kg    3 x 95kg    \n",
      "\n",
      " Week 4\n",
      "  Day 1\n",
      "   Squat   5 x 90kg    4 x 92.5kg  4 x 92.5kg  4 x 92.5kg  3 x 95kg    \n",
      "\n",
      "----------------------------------------------------------------\n"
     ]
    }
   ],
   "source": [
    "program = Program(duration=4)\n",
    "\n",
    "\n",
    "# Create a generator\n",
    "generator = RepSchemeGenerator(\n",
    "    max_diff=4,   # Maximum difference between two consecutive sets.\n",
    "    max_unique=4, # Maximum unique sets in the solution.\n",
    ")\n",
    "\n",
    "# Override the default optimizer in the program\n",
    "program.optimizer = RepSchemeOptimizer(generator=generator)\n",
    "\n",
    "with program.Day():\n",
    "    program.DynamicExercise(name=\"Squat\", start_weight=100)\n",
    "    \n",
    "program.render()\n",
    "print(program)"
   ]
  },
  {
   "cell_type": "markdown",
   "metadata": {},
   "source": [
    "Further customization is possible - please see the source code for how to inject more custom behavoirs."
   ]
  }
 ],
 "metadata": {
  "kernelspec": {
   "display_name": "Python 3",
   "language": "python",
   "name": "python3"
  },
  "language_info": {
   "codemirror_mode": {
    "name": "ipython",
    "version": 3
   },
   "file_extension": ".py",
   "mimetype": "text/x-python",
   "name": "python",
   "nbconvert_exporter": "python",
   "pygments_lexer": "ipython3",
   "version": "3.7.6"
  }
 },
 "nbformat": 4,
 "nbformat_minor": 2
}
