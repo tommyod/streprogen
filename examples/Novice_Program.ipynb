{
 "cells": [
  {
   "cell_type": "markdown",
   "metadata": {},
   "source": [
    "## Novice program"
   ]
  },
  {
   "cell_type": "markdown",
   "metadata": {},
   "source": [
    "### Imports"
   ]
  },
  {
   "cell_type": "code",
   "execution_count": 1,
   "metadata": {},
   "outputs": [],
   "source": [
    "from streprogen import Program"
   ]
  },
  {
   "cell_type": "markdown",
   "metadata": {},
   "source": [
    "### Program setup"
   ]
  },
  {
   "cell_type": "code",
   "execution_count": 2,
   "metadata": {},
   "outputs": [],
   "source": [
    "program = Program(\n",
    "    # The name of the training program\n",
    "    name='MyFirstProgram',\n",
    "    # The duration of the training program in weeks.\n",
    "    duration=8,\n",
    "    # The baseline number of repetitions per dynamic exercise.\n",
    "    reps_per_exercise=25,\n",
    "    # Units for the weights, typically 'kg', 'lbs' or '' (empty)\n",
    "    units='kg',\n",
    "    # What the weights are rounded to.\n",
    "    round_to=5,\n",
    ")\n",
    "\n",
    "with program.Day():\n",
    "    program.DynamicExercise(name=\"Bench\", start_weight=80, min_reps=3, max_reps=8)\n",
    "    program.DynamicExercise(name=\"Squats\", start_weight=100, min_reps=3, max_reps=8)\n",
    "    program.StaticExercise('Curls', '3 x 12')\n",
    "    \n",
    "with program.Day():\n",
    "    program.DynamicExercise(name=\"Military press\", start_weight=50, min_reps=3, max_reps=8)\n",
    "    program.DynamicExercise(name=\"Squats\", start_weight=90, min_reps=3, max_reps=8)"
   ]
  },
  {
   "cell_type": "markdown",
   "metadata": {},
   "source": [
    "### Render the program"
   ]
  },
  {
   "cell_type": "code",
   "execution_count": 3,
   "metadata": {},
   "outputs": [],
   "source": [
    "# Do the computations and render a program. Might take a few seconds.\n",
    "program.render()"
   ]
  },
  {
   "cell_type": "markdown",
   "metadata": {},
   "source": [
    "### Print and save the program"
   ]
  },
  {
   "cell_type": "code",
   "execution_count": 4,
   "metadata": {},
   "outputs": [
    {
     "name": "stdout",
     "output_type": "stream",
     "text": [
      "----------------------------------------------------------------\n",
      "Program: MyFirstProgram\n",
      "\n",
      "Program parameters\n",
      "  duration: 8\n",
      "  reps_per_exercise: 25\n",
      "  intensity: 80\n",
      "  reps_scalers: \n",
      "  intensity_scalers: \n",
      "  units: kg\n",
      "----------------------------------------------------------------\n",
      "Exercise information\n",
      "  Day 1\n",
      "   Bench             80kg -> Nonekg \n",
      "    reps: [3, 8]   weekly inc.: 1.5%\n",
      "   Squats           100kg -> Nonekg \n",
      "    reps: [3, 8]   weekly inc.: 1.5%\n",
      "   Curls            3 x 12\n",
      "  Day 2\n",
      "   Military press    50kg -> Nonekg \n",
      "    reps: [3, 8]   weekly inc.: 1.5%\n",
      "   Squats            90kg -> Nonekg \n",
      "    reps: [3, 8]   weekly inc.: 1.5%\n",
      "----------------------------------------------------------------\n",
      "Program\n",
      " Week 1\n",
      "  Day 1\n",
      "   Bench            7 x 60kg   6 x 65kg   5 x 65kg   4 x 70kg   3 x 70kg   \n",
      "   Squats           7 x 75kg   6 x 80kg   5 x 80kg   4 x 85kg   3 x 90kg   \n",
      "   Curls            3 x 12\n",
      "\n",
      "  Day 2\n",
      "   Military press   7 x 40kg   6 x 40kg   5 x 40kg   4 x 45kg   3 x 45kg   \n",
      "   Squats           7 x 70kg   6 x 70kg   5 x 75kg   4 x 75kg   3 x 80kg   \n",
      "\n",
      " Week 2\n",
      "  Day 1\n",
      "   Bench            7 x 60kg   6 x 65kg   6 x 65kg   6 x 65kg   6 x 65kg   \n",
      "   Squats           7 x 75kg   6 x 80kg   6 x 80kg   6 x 80kg   6 x 80kg   \n",
      "   Curls            3 x 12\n",
      "\n",
      "  Day 2\n",
      "   Military press   7 x 40kg   6 x 40kg   6 x 40kg   6 x 40kg   6 x 40kg   \n",
      "   Squats           7 x 70kg   6 x 70kg   6 x 70kg   6 x 70kg   6 x 70kg   \n",
      "\n",
      " Week 3\n",
      "  Day 1\n",
      "   Bench            6 x 65kg   6 x 65kg   6 x 65kg   5 x 70kg   5 x 70kg   \n",
      "   Squats           6 x 80kg   6 x 80kg   6 x 80kg   5 x 85kg   5 x 85kg   \n",
      "   Curls            3 x 12\n",
      "\n",
      "  Day 2\n",
      "   Military press   6 x 40kg   6 x 40kg   6 x 40kg   5 x 45kg   5 x 45kg   \n",
      "   Squats           6 x 75kg   6 x 75kg   6 x 75kg   5 x 75kg   5 x 75kg   \n",
      "\n",
      " Week 4\n",
      "  Day 1\n",
      "   Bench            6 x 65kg   5 x 70kg   5 x 70kg   5 x 70kg   4 x 75kg   \n",
      "   Squats           6 x 85kg   5 x 85kg   5 x 85kg   5 x 85kg   4 x 90kg   \n",
      "   Curls            3 x 12\n",
      "\n",
      "  Day 2\n",
      "   Military press   6 x 40kg   5 x 45kg   5 x 45kg   5 x 45kg   4 x 45kg   \n",
      "   Squats           6 x 75kg   5 x 80kg   5 x 80kg   5 x 80kg   4 x 80kg   \n",
      "\n",
      " Week 5\n",
      "  Day 1\n",
      "   Bench            7 x 65kg   6 x 70kg   6 x 70kg   5 x 70kg   5 x 70kg   \n",
      "   Squats           7 x 80kg   6 x 85kg   6 x 85kg   5 x 90kg   5 x 90kg   \n",
      "   Curls            3 x 12\n",
      "\n",
      "  Day 2\n",
      "   Military press   7 x 40kg   6 x 40kg   6 x 40kg   5 x 45kg   5 x 45kg   \n",
      "   Squats           7 x 75kg   6 x 75kg   6 x 75kg   5 x 80kg   5 x 80kg   \n",
      "\n",
      " Week 6\n",
      "  Day 1\n",
      "   Bench            7 x 65kg   6 x 70kg   6 x 70kg   6 x 70kg   6 x 70kg   \n",
      "   Squats           7 x 80kg   6 x 85kg   6 x 85kg   6 x 85kg   6 x 85kg   \n",
      "   Curls            3 x 12\n",
      "\n",
      "  Day 2\n",
      "   Military press   7 x 40kg   6 x 45kg   6 x 45kg   6 x 45kg   6 x 45kg   \n",
      "   Squats           7 x 75kg   6 x 75kg   6 x 75kg   6 x 75kg   6 x 75kg   \n",
      "\n",
      " Week 7\n",
      "  Day 1\n",
      "   Bench            6 x 70kg   5 x 75kg   5 x 75kg   5 x 75kg   4 x 75kg   \n",
      "   Squats           6 x 85kg   5 x 90kg   5 x 90kg   5 x 90kg   4 x 95kg   \n",
      "   Curls            3 x 12\n",
      "\n",
      "  Day 2\n",
      "   Military press   6 x 45kg   5 x 45kg   5 x 45kg   5 x 45kg   4 x 50kg   \n",
      "   Squats           6 x 80kg   5 x 80kg   5 x 80kg   5 x 80kg   4 x 85kg   \n",
      "\n",
      " Week 8\n",
      "  Day 1\n",
      "   Bench            7 x 65kg   6 x 70kg   5 x 75kg   4 x 75kg   3 x 80kg   \n",
      "   Squats           7 x 85kg   6 x 90kg   5 x 90kg   4 x 95kg   3 x 100kg  \n",
      "   Curls            3 x 12\n",
      "\n",
      "  Day 2\n",
      "   Military press   7 x 40kg   6 x 45kg   5 x 45kg   4 x 50kg   3 x 50kg   \n",
      "   Squats           7 x 75kg   6 x 80kg   5 x 85kg   4 x 85kg   3 x 90kg   \n",
      "\n",
      "----------------------------------------------------------------\n"
     ]
    }
   ],
   "source": [
    "print(program)"
   ]
  },
  {
   "cell_type": "code",
   "execution_count": 5,
   "metadata": {},
   "outputs": [],
   "source": [
    "# Save the program as a HTML file\n",
    "with open('simple_program.html', 'w', encoding='utf-8') as file:\n",
    "    # Control table width by passing the 'table_width' argument\n",
    "    file.write(program.to_html(table_width=8))"
   ]
  }
 ],
 "metadata": {
  "kernelspec": {
   "display_name": "Python 3",
   "language": "python",
   "name": "python3"
  },
  "language_info": {
   "codemirror_mode": {
    "name": "ipython",
    "version": 3
   },
   "file_extension": ".py",
   "mimetype": "text/x-python",
   "name": "python",
   "nbconvert_exporter": "python",
   "pygments_lexer": "ipython3",
   "version": "3.7.3"
  }
 },
 "nbformat": 4,
 "nbformat_minor": 2
}
