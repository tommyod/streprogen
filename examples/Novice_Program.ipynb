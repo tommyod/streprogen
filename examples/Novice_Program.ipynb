{
 "cells": [
  {
   "cell_type": "markdown",
   "metadata": {},
   "source": [
    "## Novice program"
   ]
  },
  {
   "cell_type": "code",
   "execution_count": 1,
   "metadata": {},
   "outputs": [],
   "source": [
    "    _default_rep_scaler_func = None\n",
    "    _default_intensity_scaler_func = None\n",
    "    _default_reps_to_intensity_func = None\n",
    "    _default_progression_func = None"
   ]
  },
  {
   "cell_type": "code",
   "execution_count": 4,
   "metadata": {},
   "outputs": [],
   "source": [
    "from streprogen.modeling import progression_sinusoidal\n",
    "\n",
    "import functools\n",
    "\n",
    "progression_sinusoidal?"
   ]
  },
  {
   "cell_type": "code",
   "execution_count": 12,
   "metadata": {},
   "outputs": [
    {
     "data": {
      "image/png": "[encoded data removed]",
      "text/plain": [
       "<Figure size 432x288 with 1 Axes>"
      ]
     },
     "metadata": {
      "needs_background": "light"
     },
     "output_type": "display_data"
    }
   ],
   "source": [
    "func = functools.partial(progression_sinusoidal, \n",
    "                         start_weight=1,\n",
    "    final_weight=1,\n",
    "    start_week=1,\n",
    "    end_week=8,\n",
    "    periods=2,\n",
    "    scale=0.025,\n",
    "    offset=0,\n",
    "    k=0)\n",
    "\n",
    "x = list(range(1, 9))\n",
    "\n",
    "import matplotlib.pyplot as plt\n",
    "\n",
    "plt.plot(x, [func(i) for i in x], '-o', label=\"normal\")\n",
    "plt.grid()\n",
    "plt.show()"
   ]
  },
  {
   "cell_type": "code",
   "execution_count": null,
   "metadata": {},
   "outputs": [],
   "source": [
    "1/0"
   ]
  },
  {
   "cell_type": "code",
   "execution_count": null,
   "metadata": {},
   "outputs": [],
   "source": [
    "from streprogen.modeling import reps_to_intensity\n",
    "\n",
    "\n",
    "x = list(range(1, 11))\n",
    "\n",
    "import matplotlib.pyplot as plt\n",
    "\n",
    "plt.plot(x, [reps_to_intensity(i, slope=-4) for i in x], '-o', label=\"normal\")\n",
    "plt.plot(x, [reps_to_intensity(i, slope=-3.5) for i in x], '-o', label=\"tight\")\n",
    "plt.plot(x, [reps_to_intensity(i, slope=-4.5) for i in x], '-o', label=\"relaxed\")\n",
    "plt.grid()\n",
    "plt.show()"
   ]
  },
  {
   "cell_type": "code",
   "execution_count": null,
   "metadata": {},
   "outputs": [],
   "source": [
    "from streprogen.modeling import progression_diffeq\n",
    "import functools\n",
    "\n",
    "end_week = 8\n",
    "\n",
    "p = functools.partial(progression_diffeq, start_weight=0, final_weight=100, start_week=1, end_week=end_week)\n",
    "\n",
    "x = list(range(1, end_week + 1))\n",
    "\n",
    "import matplotlib.pyplot as plt\n",
    "\n",
    "plt.plot(x, [p(i, k=0) for i in x], '-o', label=\"k=0\")\n",
    "plt.plot(x, [p(i, k=1) for i in x], '-o', label=\"k=1\")\n",
    "plt.plot(x, [p(i, k=2) for i in x], '-o', label=\"k=2\")\n",
    "#plt.grid()\n",
    "plt.show()"
   ]
  },
  {
   "cell_type": "code",
   "execution_count": null,
   "metadata": {},
   "outputs": [],
   "source": []
  },
  {
   "cell_type": "code",
   "execution_count": null,
   "metadata": {},
   "outputs": [],
   "source": []
  },
  {
   "cell_type": "code",
   "execution_count": null,
   "metadata": {},
   "outputs": [],
   "source": []
  },
  {
   "cell_type": "markdown",
   "metadata": {},
   "source": [
    "### Imports"
   ]
  },
  {
   "cell_type": "code",
   "execution_count": null,
   "metadata": {},
   "outputs": [],
   "source": [
    "from streprogen import Program"
   ]
  },
  {
   "cell_type": "markdown",
   "metadata": {},
   "source": [
    "### Program setup"
   ]
  },
  {
   "cell_type": "code",
   "execution_count": null,
   "metadata": {},
   "outputs": [],
   "source": [
    "program = Program(\n",
    "    # The name of the training program\n",
    "    name='MyFirstProgram',\n",
    "    # The duration of the training program in weeks.\n",
    "    duration=8,\n",
    "    # The baseline number of repetitions per dynamic exercise.\n",
    "    reps_per_exercise=25,\n",
    "    # Units for the weights, typically 'kg', 'lbs' or '' (empty)\n",
    "    units='kg',\n",
    "    # What the weights are rounded to.\n",
    "    round_to=5,\n",
    ")\n",
    "\n",
    "with program.Day():\n",
    "    program.DynamicExercise(name=\"Bench\", start_weight=80, min_reps=3, max_reps=8)\n",
    "    program.DynamicExercise(name=\"Squats\", start_weight=100, min_reps=3, max_reps=8)\n",
    "    program.StaticExercise('Curls', '3 x 12')\n",
    "    \n",
    "with program.Day():\n",
    "    program.DynamicExercise(name=\"Military press\", start_weight=50, min_reps=3, max_reps=8)\n",
    "    program.DynamicExercise(name=\"Squats\", start_weight=90, min_reps=3, max_reps=8)"
   ]
  },
  {
   "cell_type": "markdown",
   "metadata": {},
   "source": [
    "### Render the program"
   ]
  },
  {
   "cell_type": "code",
   "execution_count": null,
   "metadata": {},
   "outputs": [],
   "source": [
    "# Do the computations and render a program. Might take a few seconds.\n",
    "program.render()"
   ]
  },
  {
   "cell_type": "markdown",
   "metadata": {},
   "source": [
    "### Print and save the program"
   ]
  },
  {
   "cell_type": "code",
   "execution_count": null,
   "metadata": {},
   "outputs": [],
   "source": [
    "print(program)"
   ]
  },
  {
   "cell_type": "code",
   "execution_count": null,
   "metadata": {},
   "outputs": [],
   "source": [
    "# Save the program as a HTML file\n",
    "with open('simple_program.html', 'w', encoding='utf-8') as file:\n",
    "    # Control table width by passing the 'table_width' argument\n",
    "    file.write(program.to_html(table_width=8))"
   ]
  }
 ],
 "metadata": {
  "kernelspec": {
   "display_name": "Python 3",
   "language": "python",
   "name": "python3"
  },
  "language_info": {
   "codemirror_mode": {
    "name": "ipython",
    "version": 3
   },
   "file_extension": ".py",
   "mimetype": "text/x-python",
   "name": "python",
   "nbconvert_exporter": "python",
   "pygments_lexer": "ipython3",
   "version": "3.7.3"
  }
 },
 "nbformat": 4,
 "nbformat_minor": 2
}
